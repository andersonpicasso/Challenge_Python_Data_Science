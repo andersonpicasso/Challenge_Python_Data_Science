{
  "nbformat": 4,
  "nbformat_minor": 0,
  "metadata": {
    "colab": {
      "provenance": []
    },
    "kernelspec": {
      "name": "python3",
      "display_name": "Python 3"
    },
    "language_info": {
      "name": "python"
    }
  },
  "cells": [
    {
      "cell_type": "markdown",
      "source": [
        "### Importação dos dados\n",
        "\n"
      ],
      "metadata": {
        "id": "RhEdWd9YUR6H"
      }
    },
    {
      "cell_type": "code",
      "execution_count": 8,
      "metadata": {
        "id": "T3EvaeQ_INIL"
      },
      "outputs": [],
      "source": [
        "import pandas as pd\n",
        "\n",
        "url = \"https://raw.githubusercontent.com/alura-es-cursos/challenge1-data-science/refs/heads/main/base-de-dados-challenge-1/loja_1.csv\"\n",
        "url2 = \"https://raw.githubusercontent.com/alura-es-cursos/challenge1-data-science/refs/heads/main/base-de-dados-challenge-1/loja_2.csv\"\n",
        "url3 = \"https://raw.githubusercontent.com/alura-es-cursos/challenge1-data-science/refs/heads/main/base-de-dados-challenge-1/loja_3.csv\"\n",
        "url4 = \"https://raw.githubusercontent.com/alura-es-cursos/challenge1-data-science/refs/heads/main/base-de-dados-challenge-1/loja_4.csv\"\n",
        "\n",
        "loja = pd.read_csv(url)\n",
        "loja2 = pd.read_csv(url2)\n",
        "loja3 = pd.read_csv(url3)\n",
        "loja4 = pd.read_csv(url4)"
      ]
    },
    {
      "cell_type": "markdown",
      "source": [
        "#1. Análise do faturamento\n"
      ],
      "metadata": {
        "id": "X62IW3KFUIYm"
      }
    },
    {
      "cell_type": "code",
      "source": [
        "import matplotlib.pyplot as plt\n",
        "\n",
        "lojas = {'Loja 1':loja, 'Loja 2':loja2, 'Loja 3':loja3, 'Loja 4':loja4}\n",
        "\n",
        "def calcular_faturamento():\n",
        "\n",
        "    nomes = []\n",
        "    faturamentos = []\n",
        "\n",
        "    for nome, preco in lojas.items():\n",
        "\n",
        "        faturamento = (round(sum(preco['Preço']), 2))\n",
        "        nomes.append(nome)\n",
        "        faturamentos.append(faturamento)\n",
        "\n",
        "    plt.bar(nomes, faturamentos, color='steelblue')\n",
        "    plt.title('Faturamento por Loja')\n",
        "    plt.xlabel('Lojas')\n",
        "    plt.ylabel('Faturamento (R$)')\n",
        "    plt.show()\n"
      ],
      "metadata": {
        "id": "KDyr8E71V3m-"
      },
      "execution_count": 9,
      "outputs": []
    },
    {
      "cell_type": "markdown",
      "source": [
        "# 2. Vendas por Categoria\n"
      ],
      "metadata": {
        "id": "2V_vcAPzWZmR"
      }
    },
    {
      "cell_type": "code",
      "source": [
        "def calcular_categorias(loja):\n",
        "\n",
        "    categorias = loja['Categoria do Produto'].value_counts()\n",
        "    id = next((nome for nome, df in lojas.items() if df.equals(loja)), 'Loja não encontrada')\n",
        "    total = sum(categorias)\n",
        "    plt.pie(categorias, labels=categorias.index, autopct=lambda val:f'{int(round(val / 100 * total))}', startangle=90, colors=plt.cm.Paired.colors)\n",
        "    plt.title(f'Vendas por categoria - {id}')\n",
        "    plt.show()"
      ],
      "metadata": {
        "id": "A34YupIuYhfF"
      },
      "execution_count": 10,
      "outputs": []
    },
    {
      "cell_type": "markdown",
      "source": [
        "# 3. Média de Avaliação das Lojas"
      ],
      "metadata": {
        "id": "Rq6tU_xSY3jk"
      }
    },
    {
      "cell_type": "code",
      "source": [
        "def media_avaliacao():\n",
        "\n",
        "    nomes = []\n",
        "    medias = []\n",
        "\n",
        "    for nome, avaliacao in lojas.items():\n",
        "\n",
        "        media = round(avaliacao['Avaliação da compra'].mean(), 1)\n",
        "        nomes.append(nome)\n",
        "        medias.append(media)\n",
        "\n",
        "    plt.bar(nomes, medias, color='steelblue')\n",
        "    plt.title('Média de avaliação por Loja')\n",
        "    plt.xlabel('Lojas')\n",
        "    plt.ylabel('Média de avaliação')\n",
        "    plt.show()"
      ],
      "metadata": {
        "id": "bh3jjjJwY5MU"
      },
      "execution_count": 11,
      "outputs": []
    },
    {
      "cell_type": "markdown",
      "source": [
        "# 4. Produtos Mais e Menos Vendidos"
      ],
      "metadata": {
        "id": "DmNp1KPBZCm-"
      }
    },
    {
      "cell_type": "code",
      "source": [
        "def grafico_produtos(loja):\n",
        "\n",
        "    produtos = loja['Produto'].value_counts()\n",
        "\n",
        "    plt.figure(figsize=(10, len(produtos) * 0.2))\n",
        "    plt.ylim(-0.5, len(produtos) - 0.5)\n",
        "    plt.barh(produtos.index, produtos.values, color='steelblue')\n",
        "    plt.gca().invert_yaxis()\n",
        "    plt.title('Produtos vendidos')\n",
        "    plt.ylabel('Produtos')\n",
        "    plt.xlabel('Quantidade vendida')\n",
        "    plt.tight_layout()\n",
        "\n",
        "    for i, valor in enumerate(produtos.values):\n",
        "        plt.text(valor + 0.1, i, str(valor), va='center')\n",
        "\n",
        "    plt.show()\n",
        "\n",
        "#Para o caso de não ser necessária a visualização gráfica, pode-se usar a função abaixo para retornar o produtos mais e menos vendidos de forma escrita.\n",
        "\n",
        "def mais_menos_vendido(loja):\n",
        "  produtos = loja['Produto'].value_counts()\n",
        "\n",
        "  menorvalor = produtos.min()\n",
        "  menosvendido = produtos[produtos == menorvalor]\n",
        "  nomes_menores = ', '.join(menosvendido.index)\n",
        "\n",
        "  maiorvalor = produtos.max()\n",
        "  maisvendido = produtos[produtos == maiorvalor]\n",
        "  nomes_maiores = ', '.join(maisvendido.index)\n",
        "  print(f'O(s) produto(s) mais vendido(s): {nomes_maiores}, com {maiorvalor} vendas.\\n')\n",
        "  print(f'O(s) produto(s) menos vendido(s): {nomes_menores}, com {menorvalor} vendas.')\n"
      ],
      "metadata": {
        "id": "qoyjqijQZHfF"
      },
      "execution_count": 12,
      "outputs": []
    },
    {
      "cell_type": "markdown",
      "source": [
        "# 5. Frete Médio por Loja\n"
      ],
      "metadata": {
        "id": "Fl0cGi3bZKqU"
      }
    },
    {
      "cell_type": "code",
      "source": [
        "def media_frete():\n",
        "\n",
        "    nomes = []\n",
        "    medias = []\n",
        "\n",
        "    for nome, frete in lojas.items():\n",
        "\n",
        "        media = round(frete['Frete'].mean(), 1)\n",
        "        nomes.append(nome)\n",
        "        medias.append(media)\n",
        "\n",
        "    plt.bar(nomes, medias, color='steelblue')\n",
        "    plt.title('Frete médio por Loja')\n",
        "    plt.ylabel('Frete médio')\n",
        "    plt.xlabel('Lojas')\n",
        "\n",
        "    for i, media in enumerate(medias):\n",
        "        plt.text(i, media, str(media), ha='center', va='bottom')\n",
        "\n",
        "    plt.show()"
      ],
      "metadata": {
        "id": "S2JeaCykZNy9"
      },
      "execution_count": 13,
      "outputs": []
    },
    {
      "cell_type": "markdown",
      "source": [
        "# 6. Relatório Final"
      ],
      "metadata": {
        "id": "lLnCcTWOSXxp"
      }
    },
    {
      "cell_type": "markdown",
      "source": [
        "Este documento tem como objetivo determinar qual das quatro lojas deve ser vendida, com base na análise dos dados fornecidos e nas informações geradas por meio das funções previamente estudadas. Para isso, serão considerados indicadores como faturamento, frete médio, avaliação média, entre outros. A intenção é apresentar um parecer claro e objetivo sobre os motivos que justificam a escolha da loja a ser vendida.\n",
        "\n",
        "Além das análises numéricas, serão utilizados gráficos para facilitar a visualização das diferenças entre as lojas e reforçar a interpretação dos dados. O uso de recursos visuais, como os gráficos, não apenas é obrigatório, mas também representa uma ferramenta essencial para embasar a escolha, considerando os critérios analisados.\n",
        "\n",
        "Com base nas planilhas fornecidas, os dados obtidos para cada uma das lojas foram: faturamento, vendas por categoria, média de avaliação, produtos mais e menos vendidos e frete médio. Como visto no gráfico gerado pela função calcular_faturamento(), a loja com menor faturamento foi a Loja 4.\n",
        "\n",
        "Ao analisar a avaliação média usando a função media_avaliacao(), nota-se que todas as quatro lojas possuem uma média de 4/5. Quanto ao frete médio, observa-se que a Loja 4 possui o menor valor entre as quatro, com R\\$ 31,30, enquanto a Loja 1 apresenta o maior frete médio, com R\\$ 34,70, resultando em uma diferença de R\\$ 3,40 entre os valores.\n",
        "\n",
        "Por fim, dado o menor faturamento da loja 4 e a pouca diferença de frete médio dela para as demais, sendo este um ponto que poderia vir a atrair novos consumidores para o local. Indica-se que a loja a ser vendida seja a loja de número 4."
      ],
      "metadata": {
        "id": "ZFYDguwcUBiJ"
      }
    },
    {
      "cell_type": "markdown",
      "source": [],
      "metadata": {
        "id": "dktRPhDVUS8V"
      }
    }
  ]
}